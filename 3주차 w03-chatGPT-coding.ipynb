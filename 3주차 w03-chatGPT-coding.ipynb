{
 "cells": [
  {
   "cell_type": "code",
   "execution_count": null,
   "metadata": {},
   "outputs": [],
   "source": [
    "import csv\n",
    "\n",
    "# 파일 경로 설정\n",
    "file_path = 'seoul.csv'\n",
    "\n",
    "# 변수 초기화\n",
    "max_temp = -float('inf')\n",
    "max_temp_date = ''\n",
    "\n",
    "# CSV 파일 읽기\n",
    "with open(file_path, 'r', encoding='euc-kr') as file:\n",
    "    reader = csv.reader(file)\n",
    "    next(reader)  # 헤더를 건너뜀\n",
    "    \n",
    "    for row in reader:\n",
    "        try:\n",
    "            date = row[0]   # 날짜\n",
    "            temp = float(row[1])  # 온도 (두 번째 열이 온도라고 가정)\n",
    "            \n",
    "            if temp > max_temp:\n",
    "                max_temp = temp\n",
    "                max_temp_date = date\n",
    "        except ValueError:\n",
    "            continue  # 온도가 숫자가 아니면 건너뜀\n",
    "\n",
    "# 결과 출력\n",
    "print(f'서울의 가장 높은 온도는 {max_temp_date}에 {max_temp}도였습니다.')"
   ]
  }
 ],
 "metadata": {
  "language_info": {
   "name": "python"
  }
 },
 "nbformat": 4,
 "nbformat_minor": 2
}
