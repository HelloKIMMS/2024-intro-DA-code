{
  "nbformat": 4,
  "nbformat_minor": 0,
  "metadata": {
    "colab": {
      "provenance": [],
      "authorship_tag": "ABX9TyMFiIzcDV3cWvTQzrPOcoYx",
      "include_colab_link": true
    },
    "kernelspec": {
      "name": "python3",
      "display_name": "Python 3"
    },
    "language_info": {
      "name": "python"
    }
  },
  "cells": [
    {
      "cell_type": "markdown",
      "metadata": {
        "id": "view-in-github",
        "colab_type": "text"
      },
      "source": [
        "<a href=\"https://colab.research.google.com/github/HelloKIMMS/2024-intro-DA-code/blob/main/Untitled8.ipynb\" target=\"_parent\"><img src=\"https://colab.research.google.com/assets/colab-badge.svg\" alt=\"Open In Colab\"/></a>"
      ]
    },
    {
      "cell_type": "markdown",
      "source": [
        "# chatGPT에게 요청한 프로그램 실행"
      ],
      "metadata": {
        "id": "3SF2inslMnl4"
      }
    },
    {
      "cell_type": "code",
      "execution_count": 2,
      "metadata": {
        "colab": {
          "base_uri": "https://localhost:8080/"
        },
        "id": "EwRuwOjuMlVU",
        "outputId": "4aec1e2c-f910-437e-ba73-55d799bad4fb"
      },
      "outputs": [
        {
          "output_type": "stream",
          "name": "stdout",
          "text": [
            "서울의 가장 높은 온도는 \t1907-10-01에 108.0도였습니다.\n"
          ]
        }
      ],
      "source": [
        "import csv\n",
        "\n",
        "# 파일 경로 설정\n",
        "file_path = 'seoul.csv'\n",
        "\n",
        "# 변수 초기화\n",
        "max_temp = -float('inf')\n",
        "max_temp_date = ''\n",
        "\n",
        "# CSV 파일 읽기\n",
        "with open(file_path, 'r', encoding='euc-kr') as file:\n",
        "    reader = csv.reader(file)\n",
        "    next(reader)  # 헤더를 건너뜀\n",
        "\n",
        "    for row in reader:\n",
        "        try:\n",
        "            date = row[0]   # 날짜\n",
        "            temp = float(row[1])  # 온도 (두 번째 열이 온도라고 가정)\n",
        "\n",
        "            if temp > max_temp:\n",
        "                max_temp = temp\n",
        "                max_temp_date = date\n",
        "        except ValueError:\n",
        "            continue  # 온도가 숫자가 아니면 건너뜀\n",
        "\n",
        "# 결과 출력\n",
        "print(f'서울의 가장 높은 온도는 {max_temp_date}에 {max_temp}도였습니다.')"
      ]
    }
  ]
}